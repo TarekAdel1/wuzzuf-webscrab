{
 "cells": [
  {
   "cell_type": "code",
   "execution_count": 1,
   "id": "d2f0455e",
   "metadata": {
    "ExecuteTime": {
     "end_time": "2024-02-03T21:49:50.439911Z",
     "start_time": "2024-02-03T21:49:50.225190Z"
    }
   },
   "outputs": [],
   "source": [
    "import requests\n",
    "from bs4 import BeautifulSoup\n",
    "import csv\n",
    "from itertools import zip_longest"
   ]
  },
  {
   "cell_type": "code",
   "execution_count": 13,
   "id": "c6e80931",
   "metadata": {
    "ExecuteTime": {
     "end_time": "2024-02-03T21:58:13.293614Z",
     "start_time": "2024-02-03T21:58:11.952507Z"
    }
   },
   "outputs": [],
   "source": [
    "# use requests to fetch ur url\n",
    "jobtitle=[]\n",
    "company=[]\n",
    "location=[]\n",
    "links=[]\n",
    "salary=[]\n",
    "result=requests.get(\"https://wuzzuf.net/search/jobs/?a=hpb&q=python&start=0\")"
   ]
  },
  {
   "cell_type": "code",
   "execution_count": 14,
   "id": "66605750",
   "metadata": {
    "ExecuteTime": {
     "end_time": "2024-02-03T21:58:14.584256Z",
     "start_time": "2024-02-03T21:58:14.573457Z"
    }
   },
   "outputs": [],
   "source": [
    "# save page content\n",
    "src=result.content\n"
   ]
  },
  {
   "cell_type": "code",
   "execution_count": 15,
   "id": "d25df560",
   "metadata": {
    "ExecuteTime": {
     "end_time": "2024-02-03T21:58:15.279268Z",
     "start_time": "2024-02-03T21:58:15.179886Z"
    }
   },
   "outputs": [],
   "source": [
    "# create soup object to praise content\n",
    "soup = BeautifulSoup(src,\"lxml\")\n"
   ]
  },
  {
   "cell_type": "code",
   "execution_count": 16,
   "id": "64a339ae",
   "metadata": {
    "ExecuteTime": {
     "end_time": "2024-02-03T21:58:16.003417Z",
     "start_time": "2024-02-03T21:58:15.980571Z"
    }
   },
   "outputs": [],
   "source": [
    "# job titles , job skills , company , location\n",
    "jobtitles=soup.find_all(\"h2\",{\"class\":\"css-m604qf\"})\n",
    "companies=soup.find_all(\"a\",{\"class\":\"css-17s97q8\"})\n",
    "locations=soup.find_all(\"span\",{\"class\":\"css-5wys0k\"})"
   ]
  },
  {
   "cell_type": "code",
   "execution_count": 17,
   "id": "3c8b9677",
   "metadata": {
    "ExecuteTime": {
     "end_time": "2024-02-03T21:58:20.012494Z",
     "start_time": "2024-02-03T21:58:19.997377Z"
    }
   },
   "outputs": [],
   "source": [
    "for i in range(len(jobtitles)):\n",
    "    jobtitle.append(jobtitles[i].text)\n",
    "    company.append(companies[i].text)\n",
    "    location.append(locations[i].text)\n",
    "    links.append(jobtitles[i].find(\"a\").attrs['href'])"
   ]
  },
  {
   "cell_type": "code",
   "execution_count": 18,
   "id": "6567a115",
   "metadata": {
    "ExecuteTime": {
     "end_time": "2024-02-03T21:58:22.356306Z",
     "start_time": "2024-02-03T21:58:21.086646Z"
    }
   },
   "outputs": [
    {
     "name": "stdout",
     "output_type": "stream",
     "text": [
      "error, cannot get the salary\n"
     ]
    }
   ],
   "source": []
  },
  {
   "cell_type": "code",
   "execution_count": 23,
   "id": "8dc6b9db",
   "metadata": {
    "ExecuteTime": {
     "end_time": "2024-02-03T22:00:28.862866Z",
     "start_time": "2024-02-03T22:00:28.849629Z"
    }
   },
   "outputs": [],
   "source": [
    "# create csv file\n",
    "filelist=[jobtitle,company,location,links ]\n",
    "exported = zip_longest(*filelist)\n",
    "with open(r\"C:\\Users\\tarek\\OneDrive\\Documents\\jobtest2.csv\", \"w\") as myfile:\n",
    "    wr=csv.writer(myfile)\n",
    "    wr.writerow([\"job title\",\"company\",\"location\",\"links\"])\n",
    "    wr.writerows(exported)"
   ]
  },
  {
   "cell_type": "code",
   "execution_count": null,
   "id": "c51c2ea8",
   "metadata": {},
   "outputs": [],
   "source": []
  }
 ],
 "metadata": {
  "kernelspec": {
   "display_name": "Python 3 (ipykernel)",
   "language": "python",
   "name": "python3"
  },
  "language_info": {
   "codemirror_mode": {
    "name": "ipython",
    "version": 3
   },
   "file_extension": ".py",
   "mimetype": "text/x-python",
   "name": "python",
   "nbconvert_exporter": "python",
   "pygments_lexer": "ipython3",
   "version": "3.11.5"
  },
  "varInspector": {
   "cols": {
    "lenName": 16,
    "lenType": 16,
    "lenVar": 40
   },
   "kernels_config": {
    "python": {
     "delete_cmd_postfix": "",
     "delete_cmd_prefix": "del ",
     "library": "var_list.py",
     "varRefreshCmd": "print(var_dic_list())"
    },
    "r": {
     "delete_cmd_postfix": ") ",
     "delete_cmd_prefix": "rm(",
     "library": "var_list.r",
     "varRefreshCmd": "cat(var_dic_list()) "
    }
   },
   "types_to_exclude": [
    "module",
    "function",
    "builtin_function_or_method",
    "instance",
    "_Feature"
   ],
   "window_display": false
  }
 },
 "nbformat": 4,
 "nbformat_minor": 5
}
